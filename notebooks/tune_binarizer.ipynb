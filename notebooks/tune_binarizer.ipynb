{
 "cells": [
  {
   "cell_type": "code",
   "execution_count": 4,
   "id": "c741555c-f3f7-4f51-b068-cdce4c88709d",
   "metadata": {},
   "outputs": [
    {
     "data": {
      "application/vnd.jupyter.widget-view+json": {
       "model_id": "557698bf64384944b1a6c1ccc880ef81",
       "version_major": 2,
       "version_minor": 0
      },
      "text/plain": [
       "VBox(children=(FloatSlider(value=1.5, description='Contrast:', max=3.0, min=0.5), IntSlider(value=150, descrip…"
      ]
     },
     "metadata": {},
     "output_type": "display_data"
    },
    {
     "data": {
      "application/vnd.jupyter.widget-view+json": {
       "model_id": "cad1e1f23f224e08815ea1d45abb794e",
       "version_major": 2,
       "version_minor": 0
      },
      "text/plain": [
       "Output()"
      ]
     },
     "metadata": {},
     "output_type": "display_data"
    }
   ],
   "source": [
    "import numpy as np\n",
    "from pathlib import Path\n",
    "from PIL import Image, ImageEnhance, ImageFilter\n",
    "import ipywidgets as widgets\n",
    "from IPython.display import display\n",
    "import matplotlib.pyplot as plt\n",
    "\n",
    "# Load the image\n",
    "IMAGE_PATH = Path(\"downscaled_data/test_image.jpg\")  # Replace with your image path\n",
    "\n",
    "def preprocess_image(contrast_factor, threshold, diff_threshold):\n",
    "    \"\"\"Preprocess an image with adjustable parameters.\"\"\"\n",
    "    with Image.open(IMAGE_PATH) as img:\n",
    "        # Step 1: Enhance contrast\n",
    "        enhancer = ImageEnhance.Contrast(img)\n",
    "        img = enhancer.enhance(contrast_factor)\n",
    "\n",
    "        # Step 2: Remove noise using a median filter\n",
    "        img = img.filter(ImageFilter.MedianFilter(size=3))\n",
    "\n",
    "        # Step 3: Apply binarization with the given formula\n",
    "        img_array = np.array(img)\n",
    "        if img_array.ndim == 3:  # Ensure the image has multiple channels (e.g., RGB)\n",
    "            r, g, b = img_array[..., 0], img_array[..., 1], img_array[..., 2]\n",
    "            condition = (\n",
    "                (r < threshold) & (g < threshold) & (b < threshold) &\n",
    "                (np.max(np.stack([np.abs(r - g), np.abs(r - b), np.abs(g - b)], axis=0), axis=0) < diff_threshold)\n",
    "            )\n",
    "            binary_array = (1 - condition.astype(np.uint8)) * 255  # Convert to binary (0 or 255)\n",
    "        else:\n",
    "            raise ValueError(\"Input image must have 3 channels (RGB).\")\n",
    "\n",
    "        binary_img = Image.fromarray(binary_array, mode=\"L\")  # Convert back to grayscale image\n",
    "        return binary_img\n",
    "\n",
    "def update_image(contrast_factor, threshold, diff_threshold):\n",
    "    \"\"\"Update the displayed image based on widget values.\"\"\"\n",
    "    binary_img = preprocess_image(contrast_factor, threshold, diff_threshold)\n",
    "    plt.figure(figsize=(7, 15))\n",
    "    plt.axis(\"off\")\n",
    "    plt.imshow(binary_img, cmap=\"gray\")\n",
    "    plt.show()\n",
    "\n",
    "# Create widgets\n",
    "contrast_slider = widgets.FloatSlider(value=1.5, min=0.5, max=3.0, step=0.1, description=\"Contrast:\")\n",
    "threshold_slider = widgets.IntSlider(value=150, min=0, max=255, step=1, description=\"Threshold:\")\n",
    "diff_threshold_slider = widgets.IntSlider(value=100, min=0, max=255, step=1, description=\"Diff Threshold:\")\n",
    "\n",
    "# Display widgets and image\n",
    "ui = widgets.VBox([contrast_slider, threshold_slider, diff_threshold_slider])\n",
    "out = widgets.interactive_output(update_image, {\n",
    "    'contrast_factor': contrast_slider,\n",
    "    'threshold': threshold_slider,\n",
    "    'diff_threshold': diff_threshold_slider\n",
    "})\n",
    "\n",
    "display(ui, out)"
   ]
  },
  {
   "cell_type": "code",
   "execution_count": null,
   "id": "43054b76-6f9f-4278-be9b-4c5dd54941f1",
   "metadata": {},
   "outputs": [],
   "source": []
  }
 ],
 "metadata": {
  "kernelspec": {
   "display_name": "Python 3 (ipykernel)",
   "language": "python",
   "name": "python3"
  },
  "language_info": {
   "codemirror_mode": {
    "name": "ipython",
    "version": 3
   },
   "file_extension": ".py",
   "mimetype": "text/x-python",
   "name": "python",
   "nbconvert_exporter": "python",
   "pygments_lexer": "ipython3",
   "version": "3.11.6"
  }
 },
 "nbformat": 4,
 "nbformat_minor": 5
}
